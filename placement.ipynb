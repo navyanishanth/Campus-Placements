{
  "nbformat": 4,
  "nbformat_minor": 0,
  "metadata": {
    "colab": {
      "name": "placement.ipynb",
      "provenance": [],
      "toc_visible": true,
      "include_colab_link": true
    },
    "kernelspec": {
      "name": "python3",
      "display_name": "Python 3"
    }
  },
  "cells": [
    {
      "cell_type": "markdown",
      "metadata": {
        "id": "view-in-github",
        "colab_type": "text"
      },
      "source": [
        "<a href=\"https://colab.research.google.com/github/navyanishanth/Campus-Placements/blob/master/placement.ipynb\" target=\"_parent\"><img src=\"https://colab.research.google.com/assets/colab-badge.svg\" alt=\"Open In Colab\"/></a>"
      ]
    },
    {
      "cell_type": "markdown",
      "metadata": {
        "id": "DFZYmJzK5zs2",
        "colab_type": "text"
      },
      "source": [
        "#_classification_"
      ]
    },
    {
      "cell_type": "markdown",
      "metadata": {
        "id": "SaEqsEKK6C21",
        "colab_type": "text"
      },
      "source": [
        "#importing"
      ]
    },
    {
      "cell_type": "code",
      "metadata": {
        "id": "IwJQsBnQvJvJ",
        "colab_type": "code",
        "colab": {}
      },
      "source": [
        "import pandas as pd\n",
        "import numpy as np\n"
      ],
      "execution_count": 1,
      "outputs": []
    },
    {
      "cell_type": "code",
      "metadata": {
        "id": "OZ1Nj2jw83it",
        "colab_type": "code",
        "colab": {}
      },
      "source": [
        "dataset = pd.read_csv('/content/datasets_596958_1073629_Placement_Data_Full_Class.csv')"
      ],
      "execution_count": 2,
      "outputs": []
    },
    {
      "cell_type": "markdown",
      "metadata": {
        "id": "GTWpV4To6ISh",
        "colab_type": "text"
      },
      "source": [
        "#splitting"
      ]
    },
    {
      "cell_type": "code",
      "metadata": {
        "id": "og4fmuD_vVHc",
        "colab_type": "code",
        "colab": {}
      },
      "source": [
        "x = dataset.iloc[:,[4,7,9,10,8,12]].values"
      ],
      "execution_count": 3,
      "outputs": []
    },
    {
      "cell_type": "code",
      "metadata": {
        "id": "F52zuLZ38csC",
        "colab_type": "code",
        "colab": {}
      },
      "source": [
        "y = dataset.iloc[:,-2].values"
      ],
      "execution_count": 4,
      "outputs": []
    },
    {
      "cell_type": "markdown",
      "metadata": {
        "id": "okgET_pL6SeR",
        "colab_type": "text"
      },
      "source": [
        "#importing"
      ]
    },
    {
      "cell_type": "code",
      "metadata": {
        "id": "Dv59hR9W6efy",
        "colab_type": "code",
        "colab": {}
      },
      "source": [
        "from sklearn.compose import ColumnTransformer\n",
        "from sklearn.preprocessing import OneHotEncoder"
      ],
      "execution_count": 5,
      "outputs": []
    },
    {
      "cell_type": "code",
      "metadata": {
        "id": "P5QId9KU8Rzx",
        "colab_type": "code",
        "colab": {
          "base_uri": "https://localhost:8080/",
          "height": 34
        },
        "outputId": "6ed49c10-551b-478d-d611-cf12bb160ed1"
      },
      "source": [
        "dataset['degree_t'].unique()"
      ],
      "execution_count": 6,
      "outputs": [
        {
          "output_type": "execute_result",
          "data": {
            "text/plain": [
              "array(['Sci&Tech', 'Comm&Mgmt', 'Others'], dtype=object)"
            ]
          },
          "metadata": {
            "tags": []
          },
          "execution_count": 6
        }
      ]
    },
    {
      "cell_type": "markdown",
      "metadata": {
        "id": "2CPTmf4F0o3z",
        "colab_type": "text"
      },
      "source": [
        "converting char to unique number,we use label encoding"
      ]
    },
    {
      "cell_type": "markdown",
      "metadata": {
        "id": "m_Iduz5U6oXE",
        "colab_type": "text"
      },
      "source": [
        "#label encoding"
      ]
    },
    {
      "cell_type": "code",
      "metadata": {
        "id": "ZHQP0ME96rKr",
        "colab_type": "code",
        "colab": {}
      },
      "source": [
        "ct = ColumnTransformer(transformers = [('encoder',OneHotEncoder(), [2,4])],remainder = 'passthrough')\n",
        "x = np.array(ct.fit_transform(x))\n",
        "from sklearn.preprocessing import LabelEncoder\n",
        "le = LabelEncoder()\n",
        "y = le.fit_transform(y)"
      ],
      "execution_count": 7,
      "outputs": []
    },
    {
      "cell_type": "markdown",
      "metadata": {
        "id": "Z8rtfTyO6wXe",
        "colab_type": "text"
      },
      "source": [
        "#splitting"
      ]
    },
    {
      "cell_type": "code",
      "metadata": {
        "id": "LQ1k9xMQ6y3X",
        "colab_type": "code",
        "colab": {}
      },
      "source": [
        "from sklearn.model_selection import train_test_split"
      ],
      "execution_count": 8,
      "outputs": []
    },
    {
      "cell_type": "code",
      "metadata": {
        "id": "rx6Emm538lM-",
        "colab_type": "code",
        "colab": {}
      },
      "source": [
        "x_train, x_test, y_train, y_test = train_test_split(x, y, test_size = 0.2)"
      ],
      "execution_count": 9,
      "outputs": []
    },
    {
      "cell_type": "markdown",
      "metadata": {
        "id": "LAIwLKqX63ut",
        "colab_type": "text"
      },
      "source": [
        "#scaling"
      ]
    },
    {
      "cell_type": "code",
      "metadata": {
        "id": "2gHijylm67aJ",
        "colab_type": "code",
        "colab": {}
      },
      "source": [
        "from sklearn.preprocessing import StandardScaler"
      ],
      "execution_count": 10,
      "outputs": []
    },
    {
      "cell_type": "code",
      "metadata": {
        "id": "EMqLAOC48qng",
        "colab_type": "code",
        "colab": {}
      },
      "source": [
        "sc = StandardScaler()"
      ],
      "execution_count": 11,
      "outputs": []
    },
    {
      "cell_type": "code",
      "metadata": {
        "id": "KzxsCNvt8uHz",
        "colab_type": "code",
        "colab": {}
      },
      "source": [
        "x_train[:,4:] = sc.fit_transform(x_train[:,4:])"
      ],
      "execution_count": 12,
      "outputs": []
    },
    {
      "cell_type": "code",
      "metadata": {
        "id": "vuwGsSFf8vmR",
        "colab_type": "code",
        "colab": {}
      },
      "source": [
        "x_test[:,4:] = sc.transform(x_test[:,4:])"
      ],
      "execution_count": 13,
      "outputs": []
    },
    {
      "cell_type": "markdown",
      "metadata": {
        "id": "YvS-ZAty7Bpt",
        "colab_type": "text"
      },
      "source": [
        "#importing\n"
      ]
    },
    {
      "cell_type": "code",
      "metadata": {
        "id": "byLlTv847PZR",
        "colab_type": "code",
        "colab": {}
      },
      "source": [
        "from sklearn.ensemble import RandomForestClassifier\n",
        "from sklearn.linear_model import  LogisticRegression\n",
        "from sklearn.tree import DecisionTreeClassifier\n",
        "from sklearn.neighbors import KNeighborsClassifier\n",
        "from sklearn.svm import SVC\n",
        "\n",
        "from sklearn.metrics import confusion_matrix"
      ],
      "execution_count": 14,
      "outputs": []
    },
    {
      "cell_type": "code",
      "metadata": {
        "id": "JBu2GTL87Vcw",
        "colab_type": "code",
        "colab": {}
      },
      "source": [
        "r_reg=RandomForestClassifier(n_estimators=200)"
      ],
      "execution_count": 15,
      "outputs": []
    },
    {
      "cell_type": "code",
      "metadata": {
        "id": "nTJSYe9W27B1",
        "colab_type": "code",
        "colab": {}
      },
      "source": [
        "l_reg=LogisticRegression()"
      ],
      "execution_count": 16,
      "outputs": []
    },
    {
      "cell_type": "code",
      "metadata": {
        "id": "6bboII3C28nh",
        "colab_type": "code",
        "colab": {}
      },
      "source": [
        "d_reg=DecisionTreeClassifier()"
      ],
      "execution_count": 17,
      "outputs": []
    },
    {
      "cell_type": "code",
      "metadata": {
        "id": "iAyS5Pym3AUL",
        "colab_type": "code",
        "colab": {}
      },
      "source": [
        "k_reg=KNeighborsClassifier()"
      ],
      "execution_count": 18,
      "outputs": []
    },
    {
      "cell_type": "code",
      "metadata": {
        "id": "lmt3-D683Ewk",
        "colab_type": "code",
        "colab": {}
      },
      "source": [
        "s_reg=SVC()"
      ],
      "execution_count": 19,
      "outputs": []
    },
    {
      "cell_type": "markdown",
      "metadata": {
        "id": "FMGzxlrWASX3",
        "colab_type": "text"
      },
      "source": [
        "#fitting"
      ]
    },
    {
      "cell_type": "code",
      "metadata": {
        "id": "WkDhO9N77Xqd",
        "colab_type": "code",
        "colab": {
          "base_uri": "https://localhost:8080/",
          "height": 153
        },
        "outputId": "2d9e77d5-397e-4a38-8a55-a7045baa9a57"
      },
      "source": [
        "r_reg.fit(x_train,y_train)"
      ],
      "execution_count": 20,
      "outputs": [
        {
          "output_type": "execute_result",
          "data": {
            "text/plain": [
              "RandomForestClassifier(bootstrap=True, ccp_alpha=0.0, class_weight=None,\n",
              "                       criterion='gini', max_depth=None, max_features='auto',\n",
              "                       max_leaf_nodes=None, max_samples=None,\n",
              "                       min_impurity_decrease=0.0, min_impurity_split=None,\n",
              "                       min_samples_leaf=1, min_samples_split=2,\n",
              "                       min_weight_fraction_leaf=0.0, n_estimators=200,\n",
              "                       n_jobs=None, oob_score=False, random_state=None,\n",
              "                       verbose=0, warm_start=False)"
            ]
          },
          "metadata": {
            "tags": []
          },
          "execution_count": 20
        }
      ]
    },
    {
      "cell_type": "code",
      "metadata": {
        "id": "KTR0euHq3WI3",
        "colab_type": "code",
        "colab": {
          "base_uri": "https://localhost:8080/",
          "height": 102
        },
        "outputId": "b8b27c5f-b2d8-4db9-d95d-01ca2de56c06"
      },
      "source": [
        "l_reg.fit(x_train,y_train)"
      ],
      "execution_count": 21,
      "outputs": [
        {
          "output_type": "execute_result",
          "data": {
            "text/plain": [
              "LogisticRegression(C=1.0, class_weight=None, dual=False, fit_intercept=True,\n",
              "                   intercept_scaling=1, l1_ratio=None, max_iter=100,\n",
              "                   multi_class='auto', n_jobs=None, penalty='l2',\n",
              "                   random_state=None, solver='lbfgs', tol=0.0001, verbose=0,\n",
              "                   warm_start=False)"
            ]
          },
          "metadata": {
            "tags": []
          },
          "execution_count": 21
        }
      ]
    },
    {
      "cell_type": "code",
      "metadata": {
        "id": "l1ZlEnhp3csT",
        "colab_type": "code",
        "colab": {
          "base_uri": "https://localhost:8080/",
          "height": 119
        },
        "outputId": "a00cb994-74a4-43a6-a0f1-e68d1fa324fe"
      },
      "source": [
        "d_reg.fit(x_train,y_train)"
      ],
      "execution_count": 22,
      "outputs": [
        {
          "output_type": "execute_result",
          "data": {
            "text/plain": [
              "DecisionTreeClassifier(ccp_alpha=0.0, class_weight=None, criterion='gini',\n",
              "                       max_depth=None, max_features=None, max_leaf_nodes=None,\n",
              "                       min_impurity_decrease=0.0, min_impurity_split=None,\n",
              "                       min_samples_leaf=1, min_samples_split=2,\n",
              "                       min_weight_fraction_leaf=0.0, presort='deprecated',\n",
              "                       random_state=None, splitter='best')"
            ]
          },
          "metadata": {
            "tags": []
          },
          "execution_count": 22
        }
      ]
    },
    {
      "cell_type": "code",
      "metadata": {
        "id": "rZyuDmnn3gGU",
        "colab_type": "code",
        "colab": {
          "base_uri": "https://localhost:8080/",
          "height": 68
        },
        "outputId": "c91b8d14-d45c-4152-d0ad-462759ece87b"
      },
      "source": [
        "k_reg.fit(x_train,y_train)"
      ],
      "execution_count": 23,
      "outputs": [
        {
          "output_type": "execute_result",
          "data": {
            "text/plain": [
              "KNeighborsClassifier(algorithm='auto', leaf_size=30, metric='minkowski',\n",
              "                     metric_params=None, n_jobs=None, n_neighbors=5, p=2,\n",
              "                     weights='uniform')"
            ]
          },
          "metadata": {
            "tags": []
          },
          "execution_count": 23
        }
      ]
    },
    {
      "cell_type": "code",
      "metadata": {
        "id": "52Tw04Jd3klU",
        "colab_type": "code",
        "colab": {
          "base_uri": "https://localhost:8080/",
          "height": 85
        },
        "outputId": "c10c6dd3-819f-4dd0-dd77-adbe9aba87d1"
      },
      "source": [
        "s_reg.fit(x_train,y_train)"
      ],
      "execution_count": 24,
      "outputs": [
        {
          "output_type": "execute_result",
          "data": {
            "text/plain": [
              "SVC(C=1.0, break_ties=False, cache_size=200, class_weight=None, coef0=0.0,\n",
              "    decision_function_shape='ovr', degree=3, gamma='scale', kernel='rbf',\n",
              "    max_iter=-1, probability=False, random_state=None, shrinking=True,\n",
              "    tol=0.001, verbose=False)"
            ]
          },
          "metadata": {
            "tags": []
          },
          "execution_count": 24
        }
      ]
    },
    {
      "cell_type": "markdown",
      "metadata": {
        "id": "hx1ZYxtXAY40",
        "colab_type": "text"
      },
      "source": [
        "#predicting"
      ]
    },
    {
      "cell_type": "code",
      "metadata": {
        "id": "oj9h88Pv7hGW",
        "colab_type": "code",
        "colab": {
          "base_uri": "https://localhost:8080/",
          "height": 51
        },
        "outputId": "d00ed742-9d5c-4fac-e4a2-03affa5d62b6"
      },
      "source": [
        "r_pred=r_reg.predict(x_test)\n",
        "l_pred=l_reg.predict(x_test)\n",
        "d_pred=d_reg.predict(x_test)\n",
        "k_pred=k_reg.predict(x_test)\n",
        "s_pred=s_reg.predict(x_test)\n",
        "cm = confusion_matrix(y_test,k_pred)\n",
        "print(cm)"
      ],
      "execution_count": 25,
      "outputs": [
        {
          "output_type": "stream",
          "text": [
            "[[ 5  5]\n",
            " [ 4 29]]\n"
          ],
          "name": "stdout"
        }
      ]
    },
    {
      "cell_type": "markdown",
      "metadata": {
        "id": "xWZfdIyFAdAC",
        "colab_type": "text"
      },
      "source": [
        "#displaying data"
      ]
    },
    {
      "cell_type": "code",
      "metadata": {
        "id": "5yu_0eVe7jt8",
        "colab_type": "code",
        "colab": {}
      },
      "source": [
        "from sklearn.metrics import accuracy_score"
      ],
      "execution_count": 26,
      "outputs": []
    },
    {
      "cell_type": "code",
      "metadata": {
        "id": "4-pYWEZp6lXc",
        "colab_type": "code",
        "colab": {}
      },
      "source": [
        "r=accuracy_score(y_test,r_pred)"
      ],
      "execution_count": 27,
      "outputs": []
    },
    {
      "cell_type": "code",
      "metadata": {
        "id": "gATr6h_F6mGh",
        "colab_type": "code",
        "colab": {}
      },
      "source": [
        "l=accuracy_score(y_test,l_pred)"
      ],
      "execution_count": 28,
      "outputs": []
    },
    {
      "cell_type": "code",
      "metadata": {
        "id": "eq4ePynn6pGu",
        "colab_type": "code",
        "colab": {}
      },
      "source": [
        "d=accuracy_score(y_test,d_pred)"
      ],
      "execution_count": 29,
      "outputs": []
    },
    {
      "cell_type": "code",
      "metadata": {
        "id": "p532VYv76tv8",
        "colab_type": "code",
        "colab": {}
      },
      "source": [
        "k=accuracy_score(y_test,k_pred)"
      ],
      "execution_count": 30,
      "outputs": []
    },
    {
      "cell_type": "code",
      "metadata": {
        "id": "kJ55c6nb60BT",
        "colab_type": "code",
        "colab": {}
      },
      "source": [
        "s=accuracy_score(y_test,s_pred)"
      ],
      "execution_count": 31,
      "outputs": []
    },
    {
      "cell_type": "code",
      "metadata": {
        "id": "arLA3Gcq64mf",
        "colab_type": "code",
        "colab": {
          "base_uri": "https://localhost:8080/",
          "height": 34
        },
        "outputId": "a4663322-338b-4692-d916-030639cf733c"
      },
      "source": [
        "print('RandomForestClassifier=',r)"
      ],
      "execution_count": 32,
      "outputs": [
        {
          "output_type": "stream",
          "text": [
            "RandomForestClassifier= 0.813953488372093\n"
          ],
          "name": "stdout"
        }
      ]
    },
    {
      "cell_type": "code",
      "metadata": {
        "id": "V7wVSXgU65Wm",
        "colab_type": "code",
        "colab": {
          "base_uri": "https://localhost:8080/",
          "height": 34
        },
        "outputId": "efeab382-a314-43b5-dbe8-1433f792e418"
      },
      "source": [
        "print('LogisticRegression=',l)"
      ],
      "execution_count": 33,
      "outputs": [
        {
          "output_type": "stream",
          "text": [
            "LogisticRegression= 0.8837209302325582\n"
          ],
          "name": "stdout"
        }
      ]
    },
    {
      "cell_type": "code",
      "metadata": {
        "id": "QSHJsZaN6-yZ",
        "colab_type": "code",
        "colab": {
          "base_uri": "https://localhost:8080/",
          "height": 34
        },
        "outputId": "cf9433cf-4a7d-494a-f3dc-6375c8568315"
      },
      "source": [
        "print('DecisionTreeClassifier=',d)"
      ],
      "execution_count": 34,
      "outputs": [
        {
          "output_type": "stream",
          "text": [
            "DecisionTreeClassifier= 0.7674418604651163\n"
          ],
          "name": "stdout"
        }
      ]
    },
    {
      "cell_type": "code",
      "metadata": {
        "id": "GSWfZ-3s7Jxm",
        "colab_type": "code",
        "colab": {
          "base_uri": "https://localhost:8080/",
          "height": 34
        },
        "outputId": "dd792342-3678-40f8-bbf3-c843caf78ee6"
      },
      "source": [
        "print('KNeighborsClassifier',k)"
      ],
      "execution_count": 35,
      "outputs": [
        {
          "output_type": "stream",
          "text": [
            "KNeighborsClassifier 0.7906976744186046\n"
          ],
          "name": "stdout"
        }
      ]
    },
    {
      "cell_type": "code",
      "metadata": {
        "id": "DUuYGBtn7Oi7",
        "colab_type": "code",
        "colab": {
          "base_uri": "https://localhost:8080/",
          "height": 34
        },
        "outputId": "e2279146-5bb9-43db-8e56-86a0ec5b160a"
      },
      "source": [
        "print('SVC=',s)"
      ],
      "execution_count": 36,
      "outputs": [
        {
          "output_type": "stream",
          "text": [
            "SVC= 0.8372093023255814\n"
          ],
          "name": "stdout"
        }
      ]
    },
    {
      "cell_type": "markdown",
      "metadata": {
        "id": "-x8Bpc4ctjHv",
        "colab_type": "text"
      },
      "source": [
        "LogisticRegression classifier has more accuracy when compared to others.so LogisticRegression classifier is the best model for the data\n",
        "\n",
        "\n"
      ]
    },
    {
      "cell_type": "markdown",
      "metadata": {
        "id": "3VSCr1QaAjE6",
        "colab_type": "text"
      },
      "source": [
        "#confusion matrix"
      ]
    },
    {
      "cell_type": "code",
      "metadata": {
        "id": "HR4FyLI6AiQM",
        "colab_type": "code",
        "colab": {
          "base_uri": "https://localhost:8080/",
          "height": 51
        },
        "outputId": "8021386b-9402-4ad4-b4f5-7ae1deaa4d90"
      },
      "source": [
        "print('confusion_matrix',cm)"
      ],
      "execution_count": 37,
      "outputs": [
        {
          "output_type": "stream",
          "text": [
            "confusion_matrix [[ 5  5]\n",
            " [ 4 29]]\n"
          ],
          "name": "stdout"
        }
      ]
    },
    {
      "cell_type": "markdown",
      "metadata": {
        "id": "mhrmURB8A3lU",
        "colab_type": "text"
      },
      "source": [
        "#_regression_"
      ]
    },
    {
      "cell_type": "markdown",
      "metadata": {
        "id": "7eo0_1IbBDnX",
        "colab_type": "text"
      },
      "source": [
        "#importing"
      ]
    },
    {
      "cell_type": "code",
      "metadata": {
        "id": "evYbN864A3_0",
        "colab_type": "code",
        "colab": {}
      },
      "source": [
        "from sklearn.linear_model import LinearRegression\n",
        "from sklearn.preprocessing import PolynomialFeatures\n",
        "from sklearn.tree import DecisionTreeRegressor\n",
        "from sklearn.ensemble import RandomForestRegressor"
      ],
      "execution_count": 38,
      "outputs": []
    },
    {
      "cell_type": "code",
      "metadata": {
        "id": "oYF_Q8ulBHdS",
        "colab_type": "code",
        "colab": {}
      },
      "source": [
        "m_reg=LinearRegression()"
      ],
      "execution_count": 39,
      "outputs": []
    },
    {
      "cell_type": "code",
      "metadata": {
        "id": "4dgRoYJB4Tw3",
        "colab_type": "code",
        "colab": {}
      },
      "source": [
        "p_reg=LinearRegression()"
      ],
      "execution_count": 40,
      "outputs": []
    },
    {
      "cell_type": "code",
      "metadata": {
        "id": "WDL4ge-14WMM",
        "colab_type": "code",
        "colab": {}
      },
      "source": [
        "d_reg=DecisionTreeRegressor()"
      ],
      "execution_count": 41,
      "outputs": []
    },
    {
      "cell_type": "code",
      "metadata": {
        "id": "EnrT6u604ccp",
        "colab_type": "code",
        "colab": {}
      },
      "source": [
        "r_reg=RandomForestRegressor()"
      ],
      "execution_count": 42,
      "outputs": []
    },
    {
      "cell_type": "markdown",
      "metadata": {
        "id": "LPw3oeH5BMuk",
        "colab_type": "text"
      },
      "source": [
        "#polynomial"
      ]
    },
    {
      "cell_type": "code",
      "metadata": {
        "id": "fDyr0fNNBPFV",
        "colab_type": "code",
        "colab": {}
      },
      "source": [
        "x_poly=PolynomialFeatures(degree=2)\n",
        "x_poly=x_poly.fit_transform(x_train)"
      ],
      "execution_count": 43,
      "outputs": []
    },
    {
      "cell_type": "code",
      "metadata": {
        "id": "R62yS1qGBSCb",
        "colab_type": "code",
        "colab": {
          "base_uri": "https://localhost:8080/",
          "height": 34
        },
        "outputId": "c71906c7-b876-4350-ab60-e1929eb22cc8"
      },
      "source": [
        "m_reg.fit(x_train,y_train)"
      ],
      "execution_count": 44,
      "outputs": [
        {
          "output_type": "execute_result",
          "data": {
            "text/plain": [
              "LinearRegression(copy_X=True, fit_intercept=True, n_jobs=None, normalize=False)"
            ]
          },
          "metadata": {
            "tags": []
          },
          "execution_count": 44
        }
      ]
    },
    {
      "cell_type": "code",
      "metadata": {
        "id": "yyxTW7ku4suI",
        "colab_type": "code",
        "colab": {
          "base_uri": "https://localhost:8080/",
          "height": 34
        },
        "outputId": "141a1dae-645a-41a3-ba25-918e547a3d23"
      },
      "source": [
        "p_reg.fit(x_poly,y_train)"
      ],
      "execution_count": 45,
      "outputs": [
        {
          "output_type": "execute_result",
          "data": {
            "text/plain": [
              "LinearRegression(copy_X=True, fit_intercept=True, n_jobs=None, normalize=False)"
            ]
          },
          "metadata": {
            "tags": []
          },
          "execution_count": 45
        }
      ]
    },
    {
      "cell_type": "code",
      "metadata": {
        "id": "BLfiY0jp4vey",
        "colab_type": "code",
        "colab": {
          "base_uri": "https://localhost:8080/",
          "height": 119
        },
        "outputId": "c941a9d9-31ab-44c7-9fe3-278f02e08e6d"
      },
      "source": [
        "d_reg.fit(x_train,y_train)"
      ],
      "execution_count": 46,
      "outputs": [
        {
          "output_type": "execute_result",
          "data": {
            "text/plain": [
              "DecisionTreeRegressor(ccp_alpha=0.0, criterion='mse', max_depth=None,\n",
              "                      max_features=None, max_leaf_nodes=None,\n",
              "                      min_impurity_decrease=0.0, min_impurity_split=None,\n",
              "                      min_samples_leaf=1, min_samples_split=2,\n",
              "                      min_weight_fraction_leaf=0.0, presort='deprecated',\n",
              "                      random_state=None, splitter='best')"
            ]
          },
          "metadata": {
            "tags": []
          },
          "execution_count": 46
        }
      ]
    },
    {
      "cell_type": "code",
      "metadata": {
        "id": "UJcUlXWV40Wc",
        "colab_type": "code",
        "colab": {
          "base_uri": "https://localhost:8080/",
          "height": 136
        },
        "outputId": "3a5c1723-27f9-4c7f-b4ab-441ad0f2793d"
      },
      "source": [
        "r_reg.fit(x_train,y_train)"
      ],
      "execution_count": 47,
      "outputs": [
        {
          "output_type": "execute_result",
          "data": {
            "text/plain": [
              "RandomForestRegressor(bootstrap=True, ccp_alpha=0.0, criterion='mse',\n",
              "                      max_depth=None, max_features='auto', max_leaf_nodes=None,\n",
              "                      max_samples=None, min_impurity_decrease=0.0,\n",
              "                      min_impurity_split=None, min_samples_leaf=1,\n",
              "                      min_samples_split=2, min_weight_fraction_leaf=0.0,\n",
              "                      n_estimators=100, n_jobs=None, oob_score=False,\n",
              "                      random_state=None, verbose=0, warm_start=False)"
            ]
          },
          "metadata": {
            "tags": []
          },
          "execution_count": 47
        }
      ]
    },
    {
      "cell_type": "markdown",
      "metadata": {
        "id": "9pzEmgiyBVAX",
        "colab_type": "text"
      },
      "source": [
        "#predicting data"
      ]
    },
    {
      "cell_type": "code",
      "metadata": {
        "id": "2XLLv4EZBUVE",
        "colab_type": "code",
        "colab": {}
      },
      "source": [
        "temp=PolynomialFeatures(degree=2)\n",
        "temp=temp.fit_transform(x_test)\n",
        "m_pred=m_reg.predict(x_test)\n",
        "p_pred=p_reg.predict(temp)\n",
        "d_pred=d_reg.predict(x_test)\n",
        "r_pred=r_reg.predict(x_test)"
      ],
      "execution_count": 48,
      "outputs": []
    },
    {
      "cell_type": "markdown",
      "metadata": {
        "id": "CpY_t8AZBbT8",
        "colab_type": "text"
      },
      "source": [
        "#displaying data"
      ]
    },
    {
      "cell_type": "code",
      "metadata": {
        "id": "NnmaSrICBYQu",
        "colab_type": "code",
        "colab": {}
      },
      "source": [
        "from sklearn.metrics import r2_score"
      ],
      "execution_count": 49,
      "outputs": []
    },
    {
      "cell_type": "code",
      "metadata": {
        "id": "kmj_VRNX5alE",
        "colab_type": "code",
        "colab": {}
      },
      "source": [
        "m =r2_score(y_test,m_pred)"
      ],
      "execution_count": 50,
      "outputs": []
    },
    {
      "cell_type": "code",
      "metadata": {
        "id": "1b68U5S_5m6F",
        "colab_type": "code",
        "colab": {}
      },
      "source": [
        "p =r2_score(y_test,p_pred)"
      ],
      "execution_count": 51,
      "outputs": []
    },
    {
      "cell_type": "code",
      "metadata": {
        "id": "k9LBUodc5uof",
        "colab_type": "code",
        "colab": {}
      },
      "source": [
        "d =r2_score(y_test,d_pred)"
      ],
      "execution_count": 52,
      "outputs": []
    },
    {
      "cell_type": "code",
      "metadata": {
        "id": "O_en2SH55ze0",
        "colab_type": "code",
        "colab": {}
      },
      "source": [
        "r =r2_score(y_test,r_pred)"
      ],
      "execution_count": 53,
      "outputs": []
    },
    {
      "cell_type": "code",
      "metadata": {
        "id": "5p6XqdLq55Zl",
        "colab_type": "code",
        "colab": {
          "base_uri": "https://localhost:8080/",
          "height": 34
        },
        "outputId": "d8a02ad1-68ae-44f6-c56a-0895d02c995a"
      },
      "source": [
        "print(\"LinearRegression=\",m)"
      ],
      "execution_count": 54,
      "outputs": [
        {
          "output_type": "stream",
          "text": [
            "LinearRegression= 0.34762550292012306\n"
          ],
          "name": "stdout"
        }
      ]
    },
    {
      "cell_type": "code",
      "metadata": {
        "id": "DIRzNsnM59Cd",
        "colab_type": "code",
        "colab": {
          "base_uri": "https://localhost:8080/",
          "height": 34
        },
        "outputId": "8da15694-2677-45f3-93ff-be5549cc808e"
      },
      "source": [
        "print(\"PolynomialFeatures=\",p)"
      ],
      "execution_count": 55,
      "outputs": [
        {
          "output_type": "stream",
          "text": [
            "PolynomialFeatures= 0.08773364442767517\n"
          ],
          "name": "stdout"
        }
      ]
    },
    {
      "cell_type": "code",
      "metadata": {
        "id": "j866dqZB6Bhv",
        "colab_type": "code",
        "colab": {
          "base_uri": "https://localhost:8080/",
          "height": 34
        },
        "outputId": "c7a6a6b3-6f28-450a-d96d-2ed6dcf3cb0b"
      },
      "source": [
        "print(\"DecisionTreeRegressor=\",d)"
      ],
      "execution_count": 56,
      "outputs": [
        {
          "output_type": "stream",
          "text": [
            "DecisionTreeRegressor= -0.3030303030303032\n"
          ],
          "name": "stdout"
        }
      ]
    },
    {
      "cell_type": "code",
      "metadata": {
        "id": "sSRrCPyv6M3Q",
        "colab_type": "code",
        "colab": {
          "base_uri": "https://localhost:8080/",
          "height": 34
        },
        "outputId": "faecdcb4-5271-4c32-dafe-091563fdcd0c"
      },
      "source": [
        "print(\"RandomForestRegressor=\",r)"
      ],
      "execution_count": 57,
      "outputs": [
        {
          "output_type": "stream",
          "text": [
            "RandomForestRegressor= 0.21222696969696964\n"
          ],
          "name": "stdout"
        }
      ]
    },
    {
      "cell_type": "markdown",
      "metadata": {
        "id": "8wfwTsV_tuK3",
        "colab_type": "text"
      },
      "source": [
        "Comparing the results mentioned above we can conclude that LinearRegression shows more accuary than other models"
      ]
    }
  ]
}